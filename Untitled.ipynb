{
 "cells": [
  {
   "cell_type": "code",
   "execution_count": 3,
   "id": "b0e96485-21ce-4289-ae2b-31040d880b7e",
   "metadata": {},
   "outputs": [
    {
     "data": {
      "text/plain": [
       "False"
      ]
     },
     "metadata": {},
     "output_type": "display_data"
    },
    {
     "data": {
      "text/plain": [
       "True"
      ]
     },
     "metadata": {},
     "output_type": "display_data"
    }
   ],
   "source": [
    "#ANY (qualquer, qualquer coisa)\n",
    "\n",
    "resposta = any([False, False, False, False, False])\n",
    "display(resposta)\n",
    "# retorna True ate se tiver so um True\n",
    "resposta = any([False, True, False, False, False])\n",
    "display(resposta)"
   ]
  },
  {
   "cell_type": "code",
   "execution_count": 5,
   "id": "c8df9b13-5513-4ee0-b6f7-c8e0e9366dbf",
   "metadata": {},
   "outputs": [
    {
     "data": {
      "text/plain": [
       "True"
      ]
     },
     "metadata": {},
     "output_type": "display_data"
    }
   ],
   "source": [
    "nomes = ['luciano', '','', '', '']\n",
    "reposta = any(nomes)\n",
    "display(resposta)\n"
   ]
  },
  {
   "cell_type": "code",
   "execution_count": 6,
   "id": "52fd7aac-e4ef-4885-8abb-6568a962edcf",
   "metadata": {},
   "outputs": [
    {
     "data": {
      "text/plain": [
       "True"
      ]
     },
     "metadata": {},
     "output_type": "display_data"
    }
   ],
   "source": [
    "numeros = [2,4,6,11]\n",
    "resultado = any(num%2 != 0 for num in numeros)\n",
    "display(resultado)\n"
   ]
  },
  {
   "cell_type": "code",
   "execution_count": 39,
   "id": "5ad74013-44ca-4ab5-aa27-d133fc17e608",
   "metadata": {},
   "outputs": [
    {
     "name": "stdout",
     "output_type": "stream",
     "text": [
      "True\n"
     ]
    }
   ],
   "source": [
    " tabuleiro = ['a',1,2,3,'a',5,6,7,'a']\n",
    " venceu = False\n",
    "combincoes_vitoria = [\n",
    "    (0,1,2), (3,4,5), (6,7,8),\n",
    "    (0,3,6), (1,4,7), (2,5,8),\n",
    "   (0,4,8), (2,4,6)\n",
    "]\n",
    "for a,b,c in combincoes_vitoria:\n",
    "    if tabuleiro[a] == tabuleiro[b] == tabuleiro[c]:\n",
    "        venceu = True\n",
    "print(venceu)"
   ]
  },
  {
   "cell_type": "code",
   "execution_count": 34,
   "id": "79d01efe-5406-4772-8598-511af9884e0b",
   "metadata": {},
   "outputs": [
    {
     "name": "stdout",
     "output_type": "stream",
     "text": [
      "True\n"
     ]
    }
   ],
   "source": [
    "tabuleiro = ['a',1,2,3,'a',5,6,7,'a']\n",
    "venceu = False\n",
    "combincoes_vitoria = [\n",
    "    (0,1,2), (3,4,5), (6,7,8),\n",
    "    (0,3,6), (1,4,7), (2,5,8),\n",
    "    (0,4,8), (2,4,6)\n",
    "]\n",
    "resposta = any(tabuleiro[a] == tabuleiro[b] == tabuleiro[c] for a,b,c in combincoes_vitoria)\n",
    "print(resposta)"
   ]
  },
  {
   "cell_type": "code",
   "execution_count": 6,
   "id": "8922ea10-7e97-468a-9aa9-66f6f2bb43bb",
   "metadata": {
    "scrolled": true
   },
   "outputs": [
    {
     "name": "stdout",
     "output_type": "stream",
     "text": [
      "False\n"
     ]
    }
   ],
   "source": [
    "\n",
    "lista_num = [\n",
    "    ['luciano','lucas', 'luan'],\n",
    "    ['luciana', 'luca', 'luana'],\n",
    "    ['joana','jorge','jó']\n",
    "]\n",
    "\n",
    "lista = [False, False, False]\n",
    "resposta = all(lista)\n",
    "print(resposta)"
   ]
  },
  {
   "cell_type": "code",
   "execution_count": 9,
   "id": "bbc5b4ec-5dc5-4ea0-82ba-72faf42c73a7",
   "metadata": {},
   "outputs": [
    {
     "name": "stdout",
     "output_type": "stream",
     "text": [
      "['laranj', 'moranro']\n",
      "['laranj', 'moranro']\n",
      "['laranj', 'kiwi']\n",
      "['laranj', 'moranro']\n"
     ]
    }
   ],
   "source": [
    "lista = ['laranj','moranro']\n",
    "copia = lista[:]\n",
    "print(lista)\n",
    "print(copia)\n",
    "\n",
    "lista[1] = 'kiwi'\n",
    "\n",
    "print(lista)\n",
    "print(copia)"
   ]
  }
 ],
 "metadata": {
  "kernelspec": {
   "display_name": "Python 3 (ipykernel)",
   "language": "python",
   "name": "python3"
  },
  "language_info": {
   "codemirror_mode": {
    "name": "ipython",
    "version": 3
   },
   "file_extension": ".py",
   "mimetype": "text/x-python",
   "name": "python",
   "nbconvert_exporter": "python",
   "pygments_lexer": "ipython3",
   "version": "3.9.13"
  }
 },
 "nbformat": 4,
 "nbformat_minor": 5
}
