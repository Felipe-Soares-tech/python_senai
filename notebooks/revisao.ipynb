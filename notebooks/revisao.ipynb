{
 "cells": [
  {
   "cell_type": "markdown",
   "metadata": {},
   "source": [
    "# relembrando variaveis\n",
    "tipos:\n",
    "    -int()\n",
    "    -str()\n",
    "    -float()\n",
    "    -bool()\n",
    "    -list()\n",
    "    -tupla()\n",
    "    -dict()"
   ]
  },
  {
   "cell_type": "code",
   "execution_count": 107,
   "metadata": {},
   "outputs": [],
   "source": [
    "numero = 1\n",
    "nome = 'neymar'\n",
    "numero_decimal = 10.9\n",
    "sera = True\n",
    "frutas = ['banana', 'maçã', 'pera','uva']\n",
    "pessoa = {'nome': 'neymar', 'time': 'barcelona'}"
   ]
  },
  {
   "cell_type": "markdown",
   "metadata": {},
   "source": [
    "# condicionais\n",
    "    - if\n",
    "    - elif\n",
    "    - else\n",
    "    -match case"
   ]
  },
  {
   "cell_type": "code",
   "execution_count": 108,
   "metadata": {},
   "outputs": [
    {
     "name": "stdout",
     "output_type": "stream",
     "text": [
      "legal\n",
      "legal\n"
     ]
    }
   ],
   "source": [
    "if nome == 'neymar':\n",
    "    print('legal')\n",
    "elif nome == 'messi':\n",
    "    print('pena')\n",
    "else:\n",
    "    print('aaaaaaaaa')\n",
    "\n",
    "match numero:\n",
    "    case 1:\n",
    "        print('legal')\n",
    "    case _:\n",
    "        print('paia')"
   ]
  },
  {
   "cell_type": "markdown",
   "metadata": {},
   "source": [
    "# dicionario \n"
   ]
  },
  {
   "cell_type": "code",
   "execution_count": 109,
   "metadata": {},
   "outputs": [
    {
     "name": "stdout",
     "output_type": "stream",
     "text": [
      "dict_keys(['nome', 'idade', 'time'])\n",
      "dict_values(['neymar', 30, 'barcelona'])\n",
      "{'nome': 'neymar', 'idade': 30, 'time': 'barcelona'}\n",
      "{'nome': 'messi', 'idade': 30, 'time': 'barcelona'}\n"
     ]
    }
   ],
   "source": [
    "\n",
    "pessoa = {'nome':'neymar', 'idade':30, 'time':'barcelona'}\n",
    "\n",
    "#metodo keys\n",
    "print(pessoa.keys())\n",
    "\n",
    "#metodo values()\n",
    "\n",
    "print(pessoa.values())\n",
    "\n",
    "# olhando valores especificos de um dic\n",
    " \n",
    "# pessoa['neymar']\n",
    "\n",
    "# atribuindo um novo valor a uma chave\n",
    "print(pessoa)\n",
    "pessoa['nome'] = 'messi'\n",
    "print(pessoa)"
   ]
  },
  {
   "cell_type": "code",
   "execution_count": 110,
   "metadata": {},
   "outputs": [
    {
     "name": "stdout",
     "output_type": "stream",
     "text": [
      "{'nome': 'messi', 'idade': 30, 'time': 'barcelona', 'barcelona': 'psg'}\n",
      "{'idade': 30, 'time': 'barcelona', 'altura': '1,54'}\n"
     ]
    }
   ],
   "source": [
    "#acrescentando valores no final do dicionario\n",
    "pessoa['barcelona'] = 'psg'\n",
    "print(pessoa)\n",
    "\n",
    "\n",
    "#excluindo a chave de algum dicionario\n",
    "#comando del deleta o usuario todo\n",
    "del pessoa['barcelona']\n",
    "#deletand valor especifico\n",
    "pessoa['altura'] = '1,54'\n",
    "pessoa.pop('nome')\n",
    "print(pessoa)"
   ]
  },
  {
   "cell_type": "code",
   "execution_count": 117,
   "metadata": {},
   "outputs": [
    {
     "name": "stdout",
     "output_type": "stream",
     "text": [
      "1 {'nome': 'gabigol', 'cidade': 'bsb'}\n",
      "2 {'nome': 'messi', 'cidade': 'bsb'}\n",
      "3 {'nome': 'cebolinha', 'cidade': 'bsb'}\n"
     ]
    }
   ],
   "source": [
    "jogadores = [\n",
    "    {'nome':'gabigol','cidade':'bsb'},\n",
    "    {'nome':'messi','cidade':'bsb'},\n",
    "    {'nome':'cebolinha','cidade':'bsb'},\n",
    "]\n",
    "\n",
    "for enumerado, jogador in enumerate(jogadores):\n",
    "    print(enumerado+1, jogador)"
   ]
  },
  {
   "cell_type": "code",
   "execution_count": 126,
   "metadata": {},
   "outputs": [
    {
     "name": "stdout",
     "output_type": "stream",
     "text": [
      "gabigol\n",
      "8\n"
     ]
    }
   ],
   "source": [
    "print(jogadores[0]['nome'])\n",
    "\n",
    "mengao = {\n",
    "    'titulo1': {'brasileirao':'8','ano': '2020'} ,\n",
    "    'titulo2': {'libertadores': '3','ano': '2022'}, \n",
    "    'tiutlo3': {'mundial':'1','ano':'1981'},\n",
    "}   \n",
    "\n",
    "\n",
    "print(mengao['titulo1']['brasileirao'])"
   ]
  }
 ],
 "metadata": {
  "interpreter": {
   "hash": "023695796a0456db28915f727eb64cb942055160ea749933aa044f2070f70f3a"
  },
  "kernelspec": {
   "display_name": "Python 3.12.5 64-bit (windows store)",
   "language": "python",
   "name": "python3"
  },
  "language_info": {
   "codemirror_mode": {
    "name": "ipython",
    "version": 3
   },
   "file_extension": ".py",
   "mimetype": "text/x-python",
   "name": "python",
   "nbconvert_exporter": "python",
   "pygments_lexer": "ipython3",
   "version": "3.12.5"
  },
  "orig_nbformat": 4
 },
 "nbformat": 4,
 "nbformat_minor": 2
}
